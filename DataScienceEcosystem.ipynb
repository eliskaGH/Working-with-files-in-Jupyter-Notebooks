{
 "cells": [
  {
   "cell_type": "markdown",
   "id": "e8d4887e-7e92-4147-8c78-ecfe82f981e5",
   "metadata": {},
   "source": [
    "# Data Science Tools and Ecosystem "
   ]
  },
  {
   "cell_type": "markdown",
   "id": "f3dd711c-3e7d-4de2-87e3-e822a700a3fc",
   "metadata": {},
   "source": [
    "In this notebook, Data Science Tools and Ecosystem are summarized."
   ]
  },
  {
   "cell_type": "markdown",
   "id": "4f53a19d-382d-40e4-8ee1-bad626861236",
   "metadata": {},
   "source": [
    "**Objectives:**\n",
    "- Create a Jupyter Notebook\n",
    "- Insert code and markdown cells\n",
    "- List popular languages, commonly used libraries, or tools of data scientists\n",
    "- Share your notebook through GitHub\n"
   ]
  },
  {
   "cell_type": "markdown",
   "id": "9a68e036-fbf9-4f3d-831d-62ac82f59231",
   "metadata": {},
   "source": [
    "Some of the popular languages that Data Scientists use are:\n",
    "1. R \n",
    "2. Python\n",
    "3. Scala\n",
    "4. Julia"
   ]
  },
  {
   "cell_type": "markdown",
   "id": "46399a76-157c-4165-8204-84427da8ac0b",
   "metadata": {},
   "source": [
    "Some of the commonly used libraries used by Data Scientists include:\n",
    "1. Pandas\n",
    "2. NumPy\n",
    "3. SciPy\n",
    "4. Matplotlib\n",
    "5. TensorFlow"
   ]
  },
  {
   "cell_type": "markdown",
   "id": "ffdf1ae3-b444-4d7e-b043-e3d1c4f9b401",
   "metadata": {},
   "source": [
    "| Data Science Tools | \n",
    "|:--------:|\n",
    "|  Jupyter Notebook  |  \n",
    "|  Anaconda   |  \n",
    "|  R Studio   |  "
   ]
  },
  {
   "cell_type": "markdown",
   "id": "28d18ad8-201b-4cb8-87b6-f055bbf14ab4",
   "metadata": {},
   "source": [
    "### Below are a few examples of evaluating arithmetic expressions in Python\n",
    "- \\* for multiplication\n",
    "- \\+ for addition\n",
    "- \\- for subtraction\n",
    "- / for division\n",
    "- ** for exponent \n"
   ]
  },
  {
   "cell_type": "code",
   "execution_count": 1,
   "id": "accca657-79c4-42c5-8cf4-f5eda6c1829d",
   "metadata": {},
   "outputs": [
    {
     "data": {
      "text/plain": [
       "17"
      ]
     },
     "execution_count": 1,
     "metadata": {},
     "output_type": "execute_result"
    }
   ],
   "source": [
    "# This a simple arithmetic expression to mutiply then add integers\n",
    "(3*4)+5"
   ]
  },
  {
   "cell_type": "code",
   "execution_count": 6,
   "id": "7a7c48c2-2fd7-4bdf-8cb9-6d7dc71634b0",
   "metadata": {},
   "outputs": [
    {
     "name": "stdout",
     "output_type": "stream",
     "text": [
      "200 min is 3.3333333333333335 hours\n"
     ]
    }
   ],
   "source": [
    "# This will convert 200 minutes to hours by diving by 60\n",
    "x_min=200\n",
    "y_hrs=x_min/60\n",
    "print(\"200 min is\", y_hrs, \"hours\")"
   ]
  },
  {
   "cell_type": "markdown",
   "id": "1b979b31-18aa-45f1-8006-aa43b09e41f4",
   "metadata": {},
   "source": [
    "## Author\n",
    "Eliska Smidova"
   ]
  },
  {
   "cell_type": "code",
   "execution_count": null,
   "id": "a15ef001-f0d4-4d21-9578-9ecb0a585629",
   "metadata": {},
   "outputs": [],
   "source": []
  }
 ],
 "metadata": {
  "kernelspec": {
   "display_name": "Python 3 (ipykernel)",
   "language": "python",
   "name": "python3"
  },
  "language_info": {
   "codemirror_mode": {
    "name": "ipython",
    "version": 3
   },
   "file_extension": ".py",
   "mimetype": "text/x-python",
   "name": "python",
   "nbconvert_exporter": "python",
   "pygments_lexer": "ipython3",
   "version": "3.12.7"
  }
 },
 "nbformat": 4,
 "nbformat_minor": 5
}
